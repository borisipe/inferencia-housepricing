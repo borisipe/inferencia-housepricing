{
 "cells": [
  {
   "cell_type": "markdown",
   "id": "92a304dd",
   "metadata": {
    "papermill": {
     "duration": 0.00556,
     "end_time": "2023-06-19T19:31:27.178098",
     "exception": false,
     "start_time": "2023-06-19T19:31:27.172538",
     "status": "completed"
    },
    "tags": []
   },
   "source": [
    "# Con un conjunto de datos de casas usadas en Chile obtenidas a través de webscrapping buscamos predecir el precio de una propiedad si ajustamos los parametros como baños, habitaciones, m^3, etc.."
   ]
  },
  {
   "cell_type": "code",
   "execution_count": 1,
   "id": "e3a76e65",
   "metadata": {
    "_cell_guid": "b1076dfc-b9ad-4769-8c92-a6c4dae69d19",
    "_uuid": "8f2839f25d086af736a60e9eeb907d3b93b6e0e5",
    "execution": {
     "iopub.execute_input": "2023-06-19T19:31:27.189777Z",
     "iopub.status.busy": "2023-06-19T19:31:27.189405Z",
     "iopub.status.idle": "2023-06-19T19:31:27.209267Z",
     "shell.execute_reply": "2023-06-19T19:31:27.208168Z"
    },
    "papermill": {
     "duration": 0.027801,
     "end_time": "2023-06-19T19:31:27.210940",
     "exception": false,
     "start_time": "2023-06-19T19:31:27.183139",
     "status": "completed"
    },
    "tags": []
   },
   "outputs": [
    {
     "name": "stdout",
     "output_type": "stream",
     "text": [
      "/kaggle/input/valor-casas-usadas-chile-rm-08032023/2023-03-08 Precios Casas RM.csv\n"
     ]
    }
   ],
   "source": [
    "# This Python 3 environment comes with many helpful analytics libraries installed\n",
    "# It is defined by the kaggle/python Docker image: https://github.com/kaggle/docker-python\n",
    "# For example, here's several helpful packages to loadadd Codeadd Markdown\n",
    "\n",
    "\n",
    "import numpy as np # linear algebra\n",
    "import pandas as pd # data processing, CSV file I/O (e.g. pd.read_csv)\n",
    "\n",
    "# Input data files are available in the read-only \"../input/\" directory\n",
    "# For example, running this (by clicking run or pressing Shift+Enter) will list all files under the input directory\n",
    "\n",
    "import os\n",
    "for dirname, _, filenames in os.walk('/kaggle/input'):\n",
    "    for filename in filenames:\n",
    "        print(os.path.join(dirname, filename))\n",
    "\n",
    "# You can write up to 20GB to the current directory (/kaggle/working/) that gets preserved as output when you create a version using \"Save & Run All\" \n",
    "# You can also write temporary files to /kaggle/temp/, but they won't be saved outside of the current session"
   ]
  },
  {
   "cell_type": "code",
   "execution_count": 2,
   "id": "480525c8",
   "metadata": {
    "execution": {
     "iopub.execute_input": "2023-06-19T19:31:27.223578Z",
     "iopub.status.busy": "2023-06-19T19:31:27.223062Z",
     "iopub.status.idle": "2023-06-19T19:31:28.818577Z",
     "shell.execute_reply": "2023-06-19T19:31:28.817565Z"
    },
    "papermill": {
     "duration": 1.604312,
     "end_time": "2023-06-19T19:31:28.820795",
     "exception": false,
     "start_time": "2023-06-19T19:31:27.216483",
     "status": "completed"
    },
    "tags": []
   },
   "outputs": [],
   "source": [
    "#librerias\n",
    "import numpy as np\n",
    "import pandas as pd\n",
    "from sklearn import datasets, linear_model"
   ]
  },
  {
   "cell_type": "code",
   "execution_count": 3,
   "id": "db7f02ea",
   "metadata": {
    "execution": {
     "iopub.execute_input": "2023-06-19T19:31:28.832161Z",
     "iopub.status.busy": "2023-06-19T19:31:28.831888Z",
     "iopub.status.idle": "2023-06-19T19:31:28.908531Z",
     "shell.execute_reply": "2023-06-19T19:31:28.907324Z"
    },
    "papermill": {
     "duration": 0.085119,
     "end_time": "2023-06-19T19:31:28.911156",
     "exception": false,
     "start_time": "2023-06-19T19:31:28.826037",
     "status": "completed"
    },
    "tags": []
   },
   "outputs": [
    {
     "data": {
      "text/html": [
       "<div>\n",
       "<style scoped>\n",
       "    .dataframe tbody tr th:only-of-type {\n",
       "        vertical-align: middle;\n",
       "    }\n",
       "\n",
       "    .dataframe tbody tr th {\n",
       "        vertical-align: top;\n",
       "    }\n",
       "\n",
       "    .dataframe thead th {\n",
       "        text-align: right;\n",
       "    }\n",
       "</style>\n",
       "<table border=\"1\" class=\"dataframe\">\n",
       "  <thead>\n",
       "    <tr style=\"text-align: right;\">\n",
       "      <th></th>\n",
       "      <th>Price_CLP</th>\n",
       "      <th>Price_UF</th>\n",
       "      <th>Price_USD</th>\n",
       "      <th>Comuna</th>\n",
       "      <th>Ubicacion</th>\n",
       "      <th>Dorms</th>\n",
       "      <th>Baths</th>\n",
       "      <th>Built Area</th>\n",
       "      <th>Total Area</th>\n",
       "      <th>Parking</th>\n",
       "      <th>id</th>\n",
       "      <th>Realtor</th>\n",
       "    </tr>\n",
       "  </thead>\n",
       "  <tbody>\n",
       "    <tr>\n",
       "      <th>0</th>\n",
       "      <td>409285000</td>\n",
       "      <td>11500</td>\n",
       "      <td>509695</td>\n",
       "      <td>QuintaNormal</td>\n",
       "      <td>Hoevel4548y4558</td>\n",
       "      <td>7</td>\n",
       "      <td>4.0</td>\n",
       "      <td>384.0</td>\n",
       "      <td>732.0</td>\n",
       "      <td>3.0</td>\n",
       "      <td>11700213</td>\n",
       "      <td>NaN</td>\n",
       "    </tr>\n",
       "    <tr>\n",
       "      <th>1</th>\n",
       "      <td>105000000</td>\n",
       "      <td>2950</td>\n",
       "      <td>130760</td>\n",
       "      <td>PedroAguirreCerda</td>\n",
       "      <td>Rucalhue</td>\n",
       "      <td>2</td>\n",
       "      <td>1.0</td>\n",
       "      <td>112.0</td>\n",
       "      <td>145.0</td>\n",
       "      <td>1.0</td>\n",
       "      <td>10894299</td>\n",
       "      <td>Legales y Propiedades SpA</td>\n",
       "    </tr>\n",
       "    <tr>\n",
       "      <th>2</th>\n",
       "      <td>128124000</td>\n",
       "      <td>3600</td>\n",
       "      <td>159557</td>\n",
       "      <td>EstaciónCentral</td>\n",
       "      <td>AvenidaLasParcelas</td>\n",
       "      <td>3</td>\n",
       "      <td>1.0</td>\n",
       "      <td>59.0</td>\n",
       "      <td>243.0</td>\n",
       "      <td>2.0</td>\n",
       "      <td>10257635</td>\n",
       "      <td>Propiedadesrs</td>\n",
       "    </tr>\n",
       "    <tr>\n",
       "      <th>3</th>\n",
       "      <td>75000000</td>\n",
       "      <td>2107</td>\n",
       "      <td>93400</td>\n",
       "      <td>Colina</td>\n",
       "      <td>PasajeGonzaloRojas</td>\n",
       "      <td>3</td>\n",
       "      <td>1.0</td>\n",
       "      <td>103.0</td>\n",
       "      <td>73.0</td>\n",
       "      <td>1.0</td>\n",
       "      <td>9232092</td>\n",
       "      <td>Patricio Gajardo propiedades</td>\n",
       "    </tr>\n",
       "    <tr>\n",
       "      <th>4</th>\n",
       "      <td>53000000</td>\n",
       "      <td>1489</td>\n",
       "      <td>66002</td>\n",
       "      <td>Colina</td>\n",
       "      <td>HernánDíazArrieta2820</td>\n",
       "      <td>2</td>\n",
       "      <td>1.0</td>\n",
       "      <td>57.0</td>\n",
       "      <td>67.0</td>\n",
       "      <td>1.0</td>\n",
       "      <td>7085397</td>\n",
       "      <td>Patricio Gajardo propiedades</td>\n",
       "    </tr>\n",
       "  </tbody>\n",
       "</table>\n",
       "</div>"
      ],
      "text/plain": [
       "   Price_CLP  Price_UF  Price_USD             Comuna              Ubicacion  \\\n",
       "0  409285000     11500     509695       QuintaNormal        Hoevel4548y4558   \n",
       "1  105000000      2950     130760  PedroAguirreCerda               Rucalhue   \n",
       "2  128124000      3600     159557    EstaciónCentral     AvenidaLasParcelas   \n",
       "3   75000000      2107      93400             Colina     PasajeGonzaloRojas   \n",
       "4   53000000      1489      66002             Colina  HernánDíazArrieta2820   \n",
       "\n",
       "   Dorms  Baths  Built Area  Total Area  Parking        id  \\\n",
       "0      7    4.0       384.0       732.0      3.0  11700213   \n",
       "1      2    1.0       112.0       145.0      1.0  10894299   \n",
       "2      3    1.0        59.0       243.0      2.0  10257635   \n",
       "3      3    1.0       103.0        73.0      1.0   9232092   \n",
       "4      2    1.0        57.0        67.0      1.0   7085397   \n",
       "\n",
       "                        Realtor  \n",
       "0                           NaN  \n",
       "1     Legales y Propiedades SpA  \n",
       "2                 Propiedadesrs  \n",
       "3  Patricio Gajardo propiedades  \n",
       "4  Patricio Gajardo propiedades  "
      ]
     },
     "execution_count": 3,
     "metadata": {},
     "output_type": "execute_result"
    }
   ],
   "source": [
    "#cargamos el dataframe y mostramos los 5 primeros\n",
    "df = pd.read_csv('/kaggle/input/valor-casas-usadas-chile-rm-08032023/2023-03-08 Precios Casas RM.csv')\n",
    "df2 = df\n",
    "df.head()"
   ]
  },
  {
   "cell_type": "code",
   "execution_count": 4,
   "id": "1f0315be",
   "metadata": {
    "execution": {
     "iopub.execute_input": "2023-06-19T19:31:28.926067Z",
     "iopub.status.busy": "2023-06-19T19:31:28.925718Z",
     "iopub.status.idle": "2023-06-19T19:31:28.963026Z",
     "shell.execute_reply": "2023-06-19T19:31:28.962167Z"
    },
    "papermill": {
     "duration": 0.047008,
     "end_time": "2023-06-19T19:31:28.965809",
     "exception": false,
     "start_time": "2023-06-19T19:31:28.918801",
     "status": "completed"
    },
    "tags": []
   },
   "outputs": [
    {
     "data": {
      "text/html": [
       "<div>\n",
       "<style scoped>\n",
       "    .dataframe tbody tr th:only-of-type {\n",
       "        vertical-align: middle;\n",
       "    }\n",
       "\n",
       "    .dataframe tbody tr th {\n",
       "        vertical-align: top;\n",
       "    }\n",
       "\n",
       "    .dataframe thead th {\n",
       "        text-align: right;\n",
       "    }\n",
       "</style>\n",
       "<table border=\"1\" class=\"dataframe\">\n",
       "  <thead>\n",
       "    <tr style=\"text-align: right;\">\n",
       "      <th></th>\n",
       "      <th>Price_CLP</th>\n",
       "      <th>Price_UF</th>\n",
       "      <th>Price_USD</th>\n",
       "      <th>Dorms</th>\n",
       "      <th>Baths</th>\n",
       "      <th>Built Area</th>\n",
       "      <th>Total Area</th>\n",
       "      <th>Parking</th>\n",
       "      <th>id</th>\n",
       "    </tr>\n",
       "  </thead>\n",
       "  <tbody>\n",
       "    <tr>\n",
       "      <th>count</th>\n",
       "      <td>7.779000e+03</td>\n",
       "      <td>7779.000000</td>\n",
       "      <td>7.779000e+03</td>\n",
       "      <td>7779.000000</td>\n",
       "      <td>7714.000000</td>\n",
       "      <td>7533.000000</td>\n",
       "      <td>7571.000000</td>\n",
       "      <td>5489.000000</td>\n",
       "      <td>7.779000e+03</td>\n",
       "    </tr>\n",
       "    <tr>\n",
       "      <th>mean</th>\n",
       "      <td>3.642481e+08</td>\n",
       "      <td>10234.571153</td>\n",
       "      <td>4.536091e+05</td>\n",
       "      <td>3.994087</td>\n",
       "      <td>2.653746</td>\n",
       "      <td>229.923669</td>\n",
       "      <td>807.919826</td>\n",
       "      <td>2.980506</td>\n",
       "      <td>9.910828e+06</td>\n",
       "    </tr>\n",
       "    <tr>\n",
       "      <th>std</th>\n",
       "      <td>3.868810e+08</td>\n",
       "      <td>10870.491584</td>\n",
       "      <td>4.817945e+05</td>\n",
       "      <td>1.622821</td>\n",
       "      <td>1.465103</td>\n",
       "      <td>1676.898812</td>\n",
       "      <td>9050.893115</td>\n",
       "      <td>17.749384</td>\n",
       "      <td>2.046317e+06</td>\n",
       "    </tr>\n",
       "    <tr>\n",
       "      <th>min</th>\n",
       "      <td>2.085000e+03</td>\n",
       "      <td>0.000000</td>\n",
       "      <td>3.000000e+00</td>\n",
       "      <td>1.000000</td>\n",
       "      <td>1.000000</td>\n",
       "      <td>1.000000</td>\n",
       "      <td>1.000000</td>\n",
       "      <td>1.000000</td>\n",
       "      <td>1.213620e+06</td>\n",
       "    </tr>\n",
       "    <tr>\n",
       "      <th>25%</th>\n",
       "      <td>1.200000e+08</td>\n",
       "      <td>3372.000000</td>\n",
       "      <td>1.494400e+05</td>\n",
       "      <td>3.000000</td>\n",
       "      <td>2.000000</td>\n",
       "      <td>85.000000</td>\n",
       "      <td>129.500000</td>\n",
       "      <td>1.000000</td>\n",
       "      <td>8.563078e+06</td>\n",
       "    </tr>\n",
       "    <tr>\n",
       "      <th>50%</th>\n",
       "      <td>2.050000e+08</td>\n",
       "      <td>5760.000000</td>\n",
       "      <td>2.552930e+05</td>\n",
       "      <td>4.000000</td>\n",
       "      <td>2.000000</td>\n",
       "      <td>128.000000</td>\n",
       "      <td>210.000000</td>\n",
       "      <td>2.000000</td>\n",
       "      <td>1.054807e+07</td>\n",
       "    </tr>\n",
       "    <tr>\n",
       "      <th>75%</th>\n",
       "      <td>4.911420e+08</td>\n",
       "      <td>13800.000000</td>\n",
       "      <td>6.116340e+05</td>\n",
       "      <td>5.000000</td>\n",
       "      <td>3.000000</td>\n",
       "      <td>200.000000</td>\n",
       "      <td>443.000000</td>\n",
       "      <td>3.000000</td>\n",
       "      <td>1.152463e+07</td>\n",
       "    </tr>\n",
       "    <tr>\n",
       "      <th>max</th>\n",
       "      <td>5.516450e+09</td>\n",
       "      <td>155000.000000</td>\n",
       "      <td>6.869801e+06</td>\n",
       "      <td>27.000000</td>\n",
       "      <td>29.000000</td>\n",
       "      <td>120000.000000</td>\n",
       "      <td>678000.000000</td>\n",
       "      <td>1269.000000</td>\n",
       "      <td>1.234149e+07</td>\n",
       "    </tr>\n",
       "  </tbody>\n",
       "</table>\n",
       "</div>"
      ],
      "text/plain": [
       "          Price_CLP       Price_UF     Price_USD        Dorms        Baths  \\\n",
       "count  7.779000e+03    7779.000000  7.779000e+03  7779.000000  7714.000000   \n",
       "mean   3.642481e+08   10234.571153  4.536091e+05     3.994087     2.653746   \n",
       "std    3.868810e+08   10870.491584  4.817945e+05     1.622821     1.465103   \n",
       "min    2.085000e+03       0.000000  3.000000e+00     1.000000     1.000000   \n",
       "25%    1.200000e+08    3372.000000  1.494400e+05     3.000000     2.000000   \n",
       "50%    2.050000e+08    5760.000000  2.552930e+05     4.000000     2.000000   \n",
       "75%    4.911420e+08   13800.000000  6.116340e+05     5.000000     3.000000   \n",
       "max    5.516450e+09  155000.000000  6.869801e+06    27.000000    29.000000   \n",
       "\n",
       "          Built Area     Total Area      Parking            id  \n",
       "count    7533.000000    7571.000000  5489.000000  7.779000e+03  \n",
       "mean      229.923669     807.919826     2.980506  9.910828e+06  \n",
       "std      1676.898812    9050.893115    17.749384  2.046317e+06  \n",
       "min         1.000000       1.000000     1.000000  1.213620e+06  \n",
       "25%        85.000000     129.500000     1.000000  8.563078e+06  \n",
       "50%       128.000000     210.000000     2.000000  1.054807e+07  \n",
       "75%       200.000000     443.000000     3.000000  1.152463e+07  \n",
       "max    120000.000000  678000.000000  1269.000000  1.234149e+07  "
      ]
     },
     "execution_count": 4,
     "metadata": {},
     "output_type": "execute_result"
    }
   ],
   "source": [
    "#obtener variables descriptivas\n",
    "df.describe()\n",
    "#observamos un minimo de 1 en built area y total area, se considera erroneo"
   ]
  },
  {
   "cell_type": "code",
   "execution_count": 5,
   "id": "732ee586",
   "metadata": {
    "execution": {
     "iopub.execute_input": "2023-06-19T19:31:28.980327Z",
     "iopub.status.busy": "2023-06-19T19:31:28.979919Z",
     "iopub.status.idle": "2023-06-19T19:31:29.009849Z",
     "shell.execute_reply": "2023-06-19T19:31:29.008121Z"
    },
    "papermill": {
     "duration": 0.039819,
     "end_time": "2023-06-19T19:31:29.011781",
     "exception": false,
     "start_time": "2023-06-19T19:31:28.971962",
     "status": "completed"
    },
    "tags": []
   },
   "outputs": [
    {
     "name": "stdout",
     "output_type": "stream",
     "text": [
      "<class 'pandas.core.frame.DataFrame'>\n",
      "RangeIndex: 7779 entries, 0 to 7778\n",
      "Data columns (total 12 columns):\n",
      " #   Column      Non-Null Count  Dtype  \n",
      "---  ------      --------------  -----  \n",
      " 0   Price_CLP   7779 non-null   int64  \n",
      " 1   Price_UF    7779 non-null   int64  \n",
      " 2   Price_USD   7779 non-null   int64  \n",
      " 3   Comuna      7779 non-null   object \n",
      " 4   Ubicacion   7779 non-null   object \n",
      " 5   Dorms       7779 non-null   int64  \n",
      " 6   Baths       7714 non-null   float64\n",
      " 7   Built Area  7533 non-null   float64\n",
      " 8   Total Area  7571 non-null   float64\n",
      " 9   Parking     5489 non-null   float64\n",
      " 10  id          7779 non-null   int64  \n",
      " 11  Realtor     7184 non-null   object \n",
      "dtypes: float64(4), int64(5), object(3)\n",
      "memory usage: 729.4+ KB\n"
     ]
    }
   ],
   "source": [
    "#informacion del tipo de dato y valores no nulos\n",
    "df.info()"
   ]
  },
  {
   "cell_type": "code",
   "execution_count": 6,
   "id": "36d4b7c4",
   "metadata": {
    "execution": {
     "iopub.execute_input": "2023-06-19T19:31:29.024980Z",
     "iopub.status.busy": "2023-06-19T19:31:29.024640Z",
     "iopub.status.idle": "2023-06-19T19:31:29.033694Z",
     "shell.execute_reply": "2023-06-19T19:31:29.032300Z"
    },
    "papermill": {
     "duration": 0.018666,
     "end_time": "2023-06-19T19:31:29.036317",
     "exception": false,
     "start_time": "2023-06-19T19:31:29.017651",
     "status": "completed"
    },
    "tags": []
   },
   "outputs": [
    {
     "data": {
      "text/plain": [
       "PuenteAlto           814\n",
       "LasCondes            638\n",
       "Maipú                630\n",
       "Colina               553\n",
       "LaFlorida            467\n",
       "LoBarnechea          455\n",
       "SanBernardo          309\n",
       "Peñalolén            284\n",
       "Santiago             279\n",
       "LaReina              253\n",
       "Vitacura             238\n",
       "Ñuñoa                222\n",
       "Lampa                177\n",
       "Quilicura            168\n",
       "Providencia          159\n",
       "Pudahuel             158\n",
       "Buin                 125\n",
       "Huechuraba           122\n",
       "EstaciónCentral      106\n",
       "SanMiguel             99\n",
       "Macul                 97\n",
       "PadreHurtado          96\n",
       "ElBosque              91\n",
       "Peñaflor              89\n",
       "Recoleta              86\n",
       "LaCisterna            85\n",
       "QuintaNormal          76\n",
       "Independencia         70\n",
       "Renca                 65\n",
       "Talagante             64\n",
       "Cerrillos             64\n",
       "SanJoaquín            63\n",
       "CerroNavia            53\n",
       "LaGranja              53\n",
       "LaPintana             51\n",
       "PedroAguirreCerda     49\n",
       "Conchalí              48\n",
       "LoPrado               46\n",
       "Melipilla             45\n",
       "Paine                 41\n",
       "LoEspejo              32\n",
       "Pirque                28\n",
       "IsladeMaipo           23\n",
       "CaleradeTango         22\n",
       "SanRamón              20\n",
       "Curacaví              20\n",
       "ElMonte               17\n",
       "Tiltil                14\n",
       "SanJosédeMaipo        12\n",
       "MaríaPinto             2\n",
       "SanPedro               1\n",
       "Name: Comuna, dtype: int64"
      ]
     },
     "execution_count": 6,
     "metadata": {},
     "output_type": "execute_result"
    }
   ],
   "source": [
    "#observamos valores dummies en la columna comuna\n",
    "df['Comuna'].value_counts()"
   ]
  },
  {
   "cell_type": "code",
   "execution_count": 7,
   "id": "2ecb99d7",
   "metadata": {
    "execution": {
     "iopub.execute_input": "2023-06-19T19:31:29.051128Z",
     "iopub.status.busy": "2023-06-19T19:31:29.050754Z",
     "iopub.status.idle": "2023-06-19T19:31:29.073339Z",
     "shell.execute_reply": "2023-06-19T19:31:29.072091Z"
    },
    "papermill": {
     "duration": 0.033548,
     "end_time": "2023-06-19T19:31:29.076300",
     "exception": false,
     "start_time": "2023-06-19T19:31:29.042752",
     "status": "completed"
    },
    "tags": []
   },
   "outputs": [
    {
     "data": {
      "text/html": [
       "<div>\n",
       "<style scoped>\n",
       "    .dataframe tbody tr th:only-of-type {\n",
       "        vertical-align: middle;\n",
       "    }\n",
       "\n",
       "    .dataframe tbody tr th {\n",
       "        vertical-align: top;\n",
       "    }\n",
       "\n",
       "    .dataframe thead th {\n",
       "        text-align: right;\n",
       "    }\n",
       "</style>\n",
       "<table border=\"1\" class=\"dataframe\">\n",
       "  <thead>\n",
       "    <tr style=\"text-align: right;\">\n",
       "      <th></th>\n",
       "      <th>Price_UF</th>\n",
       "      <th>Comuna</th>\n",
       "      <th>Dorms</th>\n",
       "      <th>Baths</th>\n",
       "      <th>Built Area</th>\n",
       "      <th>Total Area</th>\n",
       "      <th>Parking</th>\n",
       "    </tr>\n",
       "  </thead>\n",
       "  <tbody>\n",
       "    <tr>\n",
       "      <th>0</th>\n",
       "      <td>11500</td>\n",
       "      <td>QuintaNormal</td>\n",
       "      <td>7</td>\n",
       "      <td>4.0</td>\n",
       "      <td>384.0</td>\n",
       "      <td>732.0</td>\n",
       "      <td>3.0</td>\n",
       "    </tr>\n",
       "    <tr>\n",
       "      <th>1</th>\n",
       "      <td>2950</td>\n",
       "      <td>PedroAguirreCerda</td>\n",
       "      <td>2</td>\n",
       "      <td>1.0</td>\n",
       "      <td>112.0</td>\n",
       "      <td>145.0</td>\n",
       "      <td>1.0</td>\n",
       "    </tr>\n",
       "    <tr>\n",
       "      <th>2</th>\n",
       "      <td>3600</td>\n",
       "      <td>EstaciónCentral</td>\n",
       "      <td>3</td>\n",
       "      <td>1.0</td>\n",
       "      <td>59.0</td>\n",
       "      <td>243.0</td>\n",
       "      <td>2.0</td>\n",
       "    </tr>\n",
       "    <tr>\n",
       "      <th>3</th>\n",
       "      <td>2107</td>\n",
       "      <td>Colina</td>\n",
       "      <td>3</td>\n",
       "      <td>1.0</td>\n",
       "      <td>103.0</td>\n",
       "      <td>73.0</td>\n",
       "      <td>1.0</td>\n",
       "    </tr>\n",
       "    <tr>\n",
       "      <th>4</th>\n",
       "      <td>1489</td>\n",
       "      <td>Colina</td>\n",
       "      <td>2</td>\n",
       "      <td>1.0</td>\n",
       "      <td>57.0</td>\n",
       "      <td>67.0</td>\n",
       "      <td>1.0</td>\n",
       "    </tr>\n",
       "  </tbody>\n",
       "</table>\n",
       "</div>"
      ],
      "text/plain": [
       "   Price_UF             Comuna  Dorms  Baths  Built Area  Total Area  Parking\n",
       "0     11500       QuintaNormal      7    4.0       384.0       732.0      3.0\n",
       "1      2950  PedroAguirreCerda      2    1.0       112.0       145.0      1.0\n",
       "2      3600    EstaciónCentral      3    1.0        59.0       243.0      2.0\n",
       "3      2107             Colina      3    1.0       103.0        73.0      1.0\n",
       "4      1489             Colina      2    1.0        57.0        67.0      1.0"
      ]
     },
     "execution_count": 7,
     "metadata": {},
     "output_type": "execute_result"
    }
   ],
   "source": [
    "#eliminamos columnas innecesarias como el vendedor, el id, la dirección, el precio en usd y clp\n",
    "df = df.drop('Realtor', axis=1)\n",
    "df = df.drop('id', axis=1)\n",
    "df = df.drop('Ubicacion', axis=1)\n",
    "df = df.drop('Price_USD', axis=1)\n",
    "df = df.drop('Price_CLP', axis=1)\n",
    "\n",
    "\n",
    "df.head()"
   ]
  },
  {
   "cell_type": "code",
   "execution_count": 8,
   "id": "c06cf225",
   "metadata": {
    "execution": {
     "iopub.execute_input": "2023-06-19T19:31:29.091727Z",
     "iopub.status.busy": "2023-06-19T19:31:29.091393Z",
     "iopub.status.idle": "2023-06-19T19:31:29.118095Z",
     "shell.execute_reply": "2023-06-19T19:31:29.116492Z"
    },
    "papermill": {
     "duration": 0.036461,
     "end_time": "2023-06-19T19:31:29.120080",
     "exception": false,
     "start_time": "2023-06-19T19:31:29.083619",
     "status": "completed"
    },
    "tags": []
   },
   "outputs": [
    {
     "name": "stdout",
     "output_type": "stream",
     "text": [
      "<class 'pandas.core.frame.DataFrame'>\n",
      "RangeIndex: 7779 entries, 0 to 7778\n",
      "Data columns (total 7 columns):\n",
      " #   Column      Non-Null Count  Dtype  \n",
      "---  ------      --------------  -----  \n",
      " 0   Price_UF    7779 non-null   int64  \n",
      " 1   Comuna      7779 non-null   object \n",
      " 2   Dorms       7779 non-null   int64  \n",
      " 3   Baths       7779 non-null   float64\n",
      " 4   Built Area  7779 non-null   float64\n",
      " 5   Total Area  7779 non-null   float64\n",
      " 6   Parking     7779 non-null   float64\n",
      "dtypes: float64(4), int64(2), object(1)\n",
      "memory usage: 425.5+ KB\n"
     ]
    },
    {
     "name": "stderr",
     "output_type": "stream",
     "text": [
      "/tmp/ipykernel_20/3203531256.py:2: FutureWarning: The default value of numeric_only in DataFrame.mean is deprecated. In a future version, it will default to False. In addition, specifying 'numeric_only=None' is deprecated. Select only valid columns or specify the value of numeric_only to silence this warning.\n",
      "  promedio = df.mean()\n"
     ]
    }
   ],
   "source": [
    "#las variables faltantes las obtenemos con el promedio\n",
    "promedio = df.mean()\n",
    "df = df.fillna(promedio)\n",
    "df.info()"
   ]
  },
  {
   "cell_type": "code",
   "execution_count": 9,
   "id": "8162f4d2",
   "metadata": {
    "execution": {
     "iopub.execute_input": "2023-06-19T19:31:29.134187Z",
     "iopub.status.busy": "2023-06-19T19:31:29.133805Z",
     "iopub.status.idle": "2023-06-19T19:31:29.161972Z",
     "shell.execute_reply": "2023-06-19T19:31:29.160631Z"
    },
    "papermill": {
     "duration": 0.038285,
     "end_time": "2023-06-19T19:31:29.164658",
     "exception": false,
     "start_time": "2023-06-19T19:31:29.126373",
     "status": "completed"
    },
    "tags": []
   },
   "outputs": [
    {
     "data": {
      "text/html": [
       "<div>\n",
       "<style scoped>\n",
       "    .dataframe tbody tr th:only-of-type {\n",
       "        vertical-align: middle;\n",
       "    }\n",
       "\n",
       "    .dataframe tbody tr th {\n",
       "        vertical-align: top;\n",
       "    }\n",
       "\n",
       "    .dataframe thead th {\n",
       "        text-align: right;\n",
       "    }\n",
       "</style>\n",
       "<table border=\"1\" class=\"dataframe\">\n",
       "  <thead>\n",
       "    <tr style=\"text-align: right;\">\n",
       "      <th></th>\n",
       "      <th>Price_UF</th>\n",
       "      <th>Dorms</th>\n",
       "      <th>Baths</th>\n",
       "      <th>Built Area</th>\n",
       "      <th>Total Area</th>\n",
       "      <th>Parking</th>\n",
       "      <th>Buin</th>\n",
       "      <th>CaleradeTango</th>\n",
       "      <th>Cerrillos</th>\n",
       "      <th>CerroNavia</th>\n",
       "      <th>...</th>\n",
       "      <th>SanJoaquín</th>\n",
       "      <th>SanJosédeMaipo</th>\n",
       "      <th>SanMiguel</th>\n",
       "      <th>SanPedro</th>\n",
       "      <th>SanRamón</th>\n",
       "      <th>Santiago</th>\n",
       "      <th>Talagante</th>\n",
       "      <th>Tiltil</th>\n",
       "      <th>Vitacura</th>\n",
       "      <th>Ñuñoa</th>\n",
       "    </tr>\n",
       "  </thead>\n",
       "  <tbody>\n",
       "    <tr>\n",
       "      <th>0</th>\n",
       "      <td>11500</td>\n",
       "      <td>7</td>\n",
       "      <td>4.0</td>\n",
       "      <td>384.0</td>\n",
       "      <td>732.0</td>\n",
       "      <td>3.0</td>\n",
       "      <td>0</td>\n",
       "      <td>0</td>\n",
       "      <td>0</td>\n",
       "      <td>0</td>\n",
       "      <td>...</td>\n",
       "      <td>0</td>\n",
       "      <td>0</td>\n",
       "      <td>0</td>\n",
       "      <td>0</td>\n",
       "      <td>0</td>\n",
       "      <td>0</td>\n",
       "      <td>0</td>\n",
       "      <td>0</td>\n",
       "      <td>0</td>\n",
       "      <td>0</td>\n",
       "    </tr>\n",
       "    <tr>\n",
       "      <th>1</th>\n",
       "      <td>2950</td>\n",
       "      <td>2</td>\n",
       "      <td>1.0</td>\n",
       "      <td>112.0</td>\n",
       "      <td>145.0</td>\n",
       "      <td>1.0</td>\n",
       "      <td>0</td>\n",
       "      <td>0</td>\n",
       "      <td>0</td>\n",
       "      <td>0</td>\n",
       "      <td>...</td>\n",
       "      <td>0</td>\n",
       "      <td>0</td>\n",
       "      <td>0</td>\n",
       "      <td>0</td>\n",
       "      <td>0</td>\n",
       "      <td>0</td>\n",
       "      <td>0</td>\n",
       "      <td>0</td>\n",
       "      <td>0</td>\n",
       "      <td>0</td>\n",
       "    </tr>\n",
       "    <tr>\n",
       "      <th>2</th>\n",
       "      <td>3600</td>\n",
       "      <td>3</td>\n",
       "      <td>1.0</td>\n",
       "      <td>59.0</td>\n",
       "      <td>243.0</td>\n",
       "      <td>2.0</td>\n",
       "      <td>0</td>\n",
       "      <td>0</td>\n",
       "      <td>0</td>\n",
       "      <td>0</td>\n",
       "      <td>...</td>\n",
       "      <td>0</td>\n",
       "      <td>0</td>\n",
       "      <td>0</td>\n",
       "      <td>0</td>\n",
       "      <td>0</td>\n",
       "      <td>0</td>\n",
       "      <td>0</td>\n",
       "      <td>0</td>\n",
       "      <td>0</td>\n",
       "      <td>0</td>\n",
       "    </tr>\n",
       "    <tr>\n",
       "      <th>3</th>\n",
       "      <td>2107</td>\n",
       "      <td>3</td>\n",
       "      <td>1.0</td>\n",
       "      <td>103.0</td>\n",
       "      <td>73.0</td>\n",
       "      <td>1.0</td>\n",
       "      <td>0</td>\n",
       "      <td>0</td>\n",
       "      <td>0</td>\n",
       "      <td>0</td>\n",
       "      <td>...</td>\n",
       "      <td>0</td>\n",
       "      <td>0</td>\n",
       "      <td>0</td>\n",
       "      <td>0</td>\n",
       "      <td>0</td>\n",
       "      <td>0</td>\n",
       "      <td>0</td>\n",
       "      <td>0</td>\n",
       "      <td>0</td>\n",
       "      <td>0</td>\n",
       "    </tr>\n",
       "    <tr>\n",
       "      <th>4</th>\n",
       "      <td>1489</td>\n",
       "      <td>2</td>\n",
       "      <td>1.0</td>\n",
       "      <td>57.0</td>\n",
       "      <td>67.0</td>\n",
       "      <td>1.0</td>\n",
       "      <td>0</td>\n",
       "      <td>0</td>\n",
       "      <td>0</td>\n",
       "      <td>0</td>\n",
       "      <td>...</td>\n",
       "      <td>0</td>\n",
       "      <td>0</td>\n",
       "      <td>0</td>\n",
       "      <td>0</td>\n",
       "      <td>0</td>\n",
       "      <td>0</td>\n",
       "      <td>0</td>\n",
       "      <td>0</td>\n",
       "      <td>0</td>\n",
       "      <td>0</td>\n",
       "    </tr>\n",
       "  </tbody>\n",
       "</table>\n",
       "<p>5 rows × 57 columns</p>\n",
       "</div>"
      ],
      "text/plain": [
       "   Price_UF  Dorms  Baths  Built Area  Total Area  Parking  Buin  \\\n",
       "0     11500      7    4.0       384.0       732.0      3.0     0   \n",
       "1      2950      2    1.0       112.0       145.0      1.0     0   \n",
       "2      3600      3    1.0        59.0       243.0      2.0     0   \n",
       "3      2107      3    1.0       103.0        73.0      1.0     0   \n",
       "4      1489      2    1.0        57.0        67.0      1.0     0   \n",
       "\n",
       "   CaleradeTango  Cerrillos  CerroNavia  ...  SanJoaquín  SanJosédeMaipo  \\\n",
       "0              0          0           0  ...           0               0   \n",
       "1              0          0           0  ...           0               0   \n",
       "2              0          0           0  ...           0               0   \n",
       "3              0          0           0  ...           0               0   \n",
       "4              0          0           0  ...           0               0   \n",
       "\n",
       "   SanMiguel  SanPedro  SanRamón  Santiago  Talagante  Tiltil  Vitacura  Ñuñoa  \n",
       "0          0         0         0         0          0       0         0      0  \n",
       "1          0         0         0         0          0       0         0      0  \n",
       "2          0         0         0         0          0       0         0      0  \n",
       "3          0         0         0         0          0       0         0      0  \n",
       "4          0         0         0         0          0       0         0      0  \n",
       "\n",
       "[5 rows x 57 columns]"
      ]
     },
     "execution_count": 9,
     "metadata": {},
     "output_type": "execute_result"
    }
   ],
   "source": [
    "#variables cualitativas a cuantitativas\n",
    "df_encoded = pd.get_dummies(df['Comuna'])\n",
    "df = pd.concat([df, df_encoded], axis=1)\n",
    "df = df.drop('Comuna', axis=1)\n",
    "df.head()"
   ]
  },
  {
   "cell_type": "markdown",
   "id": "6df0825e",
   "metadata": {
    "papermill": {
     "duration": 0.006242,
     "end_time": "2023-06-19T19:31:29.178170",
     "exception": false,
     "start_time": "2023-06-19T19:31:29.171928",
     "status": "completed"
    },
    "tags": []
   },
   "source": [
    "# Analisis de correlacion de variables"
   ]
  },
  {
   "cell_type": "code",
   "execution_count": 10,
   "id": "57f22cfb",
   "metadata": {
    "execution": {
     "iopub.execute_input": "2023-06-19T19:31:29.193295Z",
     "iopub.status.busy": "2023-06-19T19:31:29.192303Z",
     "iopub.status.idle": "2023-06-19T19:31:32.796098Z",
     "shell.execute_reply": "2023-06-19T19:31:32.795107Z"
    },
    "papermill": {
     "duration": 3.61423,
     "end_time": "2023-06-19T19:31:32.798906",
     "exception": false,
     "start_time": "2023-06-19T19:31:29.184676",
     "status": "completed"
    },
    "tags": []
   },
   "outputs": [
    {
     "data": {
      "text/plain": [
       "array([[<Axes: xlabel='Price_UF', ylabel='Price_UF'>,\n",
       "        <Axes: xlabel='Dorms', ylabel='Price_UF'>,\n",
       "        <Axes: xlabel='Baths', ylabel='Price_UF'>,\n",
       "        <Axes: xlabel='Built Area', ylabel='Price_UF'>,\n",
       "        <Axes: xlabel='Total Area', ylabel='Price_UF'>,\n",
       "        <Axes: xlabel='Parking', ylabel='Price_UF'>],\n",
       "       [<Axes: xlabel='Price_UF', ylabel='Dorms'>,\n",
       "        <Axes: xlabel='Dorms', ylabel='Dorms'>,\n",
       "        <Axes: xlabel='Baths', ylabel='Dorms'>,\n",
       "        <Axes: xlabel='Built Area', ylabel='Dorms'>,\n",
       "        <Axes: xlabel='Total Area', ylabel='Dorms'>,\n",
       "        <Axes: xlabel='Parking', ylabel='Dorms'>],\n",
       "       [<Axes: xlabel='Price_UF', ylabel='Baths'>,\n",
       "        <Axes: xlabel='Dorms', ylabel='Baths'>,\n",
       "        <Axes: xlabel='Baths', ylabel='Baths'>,\n",
       "        <Axes: xlabel='Built Area', ylabel='Baths'>,\n",
       "        <Axes: xlabel='Total Area', ylabel='Baths'>,\n",
       "        <Axes: xlabel='Parking', ylabel='Baths'>],\n",
       "       [<Axes: xlabel='Price_UF', ylabel='Built Area'>,\n",
       "        <Axes: xlabel='Dorms', ylabel='Built Area'>,\n",
       "        <Axes: xlabel='Baths', ylabel='Built Area'>,\n",
       "        <Axes: xlabel='Built Area', ylabel='Built Area'>,\n",
       "        <Axes: xlabel='Total Area', ylabel='Built Area'>,\n",
       "        <Axes: xlabel='Parking', ylabel='Built Area'>],\n",
       "       [<Axes: xlabel='Price_UF', ylabel='Total Area'>,\n",
       "        <Axes: xlabel='Dorms', ylabel='Total Area'>,\n",
       "        <Axes: xlabel='Baths', ylabel='Total Area'>,\n",
       "        <Axes: xlabel='Built Area', ylabel='Total Area'>,\n",
       "        <Axes: xlabel='Total Area', ylabel='Total Area'>,\n",
       "        <Axes: xlabel='Parking', ylabel='Total Area'>],\n",
       "       [<Axes: xlabel='Price_UF', ylabel='Parking'>,\n",
       "        <Axes: xlabel='Dorms', ylabel='Parking'>,\n",
       "        <Axes: xlabel='Baths', ylabel='Parking'>,\n",
       "        <Axes: xlabel='Built Area', ylabel='Parking'>,\n",
       "        <Axes: xlabel='Total Area', ylabel='Parking'>,\n",
       "        <Axes: xlabel='Parking', ylabel='Parking'>]], dtype=object)"
      ]
     },
     "execution_count": 10,
     "metadata": {},
     "output_type": "execute_result"
    },
    {
     "data": {
      "image/png": "[encoded data removed]",
      "text/plain": [
       "<Figure size 1200x800 with 36 Axes>"
      ]
     },
     "metadata": {},
     "output_type": "display_data"
    }
   ],
   "source": [
    "from pandas.plotting import scatter_matrix\n",
    "atributos = [\"Price_UF\", \"Dorms\", \"Baths\", \"Built Area\", \"Total Area\", \"Parking\"]\n",
    "\n",
    "scatter_matrix(df[atributos], figsize=(12,8))"
   ]
  },
  {
   "cell_type": "markdown",
   "id": "b8d03d14",
   "metadata": {
    "papermill": {
     "duration": 0.007587,
     "end_time": "2023-06-19T19:31:32.814991",
     "exception": false,
     "start_time": "2023-06-19T19:31:32.807404",
     "status": "completed"
    },
    "tags": []
   },
   "source": [
    "Se observa una fuerte lineal relación en el precio y todas las variables"
   ]
  },
  {
   "cell_type": "markdown",
   "id": "1c64db88",
   "metadata": {
    "papermill": {
     "duration": 0.007795,
     "end_time": "2023-06-19T19:31:32.830762",
     "exception": false,
     "start_time": "2023-06-19T19:31:32.822967",
     "status": "completed"
    },
    "tags": []
   },
   "source": [
    "# Modelado"
   ]
  },
  {
   "cell_type": "code",
   "execution_count": 11,
   "id": "ac2d3148",
   "metadata": {
    "execution": {
     "iopub.execute_input": "2023-06-19T19:31:32.848649Z",
     "iopub.status.busy": "2023-06-19T19:31:32.848313Z",
     "iopub.status.idle": "2023-06-19T19:31:32.854550Z",
     "shell.execute_reply": "2023-06-19T19:31:32.853478Z"
    },
    "papermill": {
     "duration": 0.01771,
     "end_time": "2023-06-19T19:31:32.856779",
     "exception": false,
     "start_time": "2023-06-19T19:31:32.839069",
     "status": "completed"
    },
    "tags": []
   },
   "outputs": [],
   "source": [
    "#definiendo la variable predictora\n",
    "X, y = df.drop('Price_UF', axis=1), df['Price_UF']"
   ]
  },
  {
   "cell_type": "code",
   "execution_count": 12,
   "id": "2500bc1f",
   "metadata": {
    "execution": {
     "iopub.execute_input": "2023-06-19T19:31:32.874580Z",
     "iopub.status.busy": "2023-06-19T19:31:32.873838Z",
     "iopub.status.idle": "2023-06-19T19:31:32.883001Z",
     "shell.execute_reply": "2023-06-19T19:31:32.882371Z"
    },
    "papermill": {
     "duration": 0.019506,
     "end_time": "2023-06-19T19:31:32.884720",
     "exception": false,
     "start_time": "2023-06-19T19:31:32.865214",
     "status": "completed"
    },
    "tags": []
   },
   "outputs": [],
   "source": [
    "#dividiendo los datos en train y test \n",
    "from sklearn.model_selection import train_test_split\n",
    "\n",
    "X_train, X_test, y_train, y_test = train_test_split(X, y, test_size = 0.2, random_state = 7)\n"
   ]
  },
  {
   "cell_type": "code",
   "execution_count": 13,
   "id": "22927459",
   "metadata": {
    "execution": {
     "iopub.execute_input": "2023-06-19T19:31:32.901810Z",
     "iopub.status.busy": "2023-06-19T19:31:32.901460Z",
     "iopub.status.idle": "2023-06-19T19:31:32.906153Z",
     "shell.execute_reply": "2023-06-19T19:31:32.905044Z"
    },
    "papermill": {
     "duration": 0.015188,
     "end_time": "2023-06-19T19:31:32.907837",
     "exception": false,
     "start_time": "2023-06-19T19:31:32.892649",
     "status": "completed"
    },
    "tags": []
   },
   "outputs": [],
   "source": [
    "#Utilizaremos un modelo de regresión lineal\n",
    "lr_multiple = linear_model.LinearRegression()"
   ]
  },
  {
   "cell_type": "code",
   "execution_count": 14,
   "id": "e2cabef5",
   "metadata": {
    "execution": {
     "iopub.execute_input": "2023-06-19T19:31:32.925909Z",
     "iopub.status.busy": "2023-06-19T19:31:32.925273Z",
     "iopub.status.idle": "2023-06-19T19:31:32.986339Z",
     "shell.execute_reply": "2023-06-19T19:31:32.985603Z"
    },
    "papermill": {
     "duration": 0.072548,
     "end_time": "2023-06-19T19:31:32.988832",
     "exception": false,
     "start_time": "2023-06-19T19:31:32.916284",
     "status": "completed"
    },
    "tags": []
   },
   "outputs": [
    {
     "data": {
      "text/html": [
       "<style>#sk-container-id-1 {color: black;background-color: white;}#sk-container-id-1 pre{padding: 0;}#sk-container-id-1 div.sk-toggleable {background-color: white;}#sk-container-id-1 label.sk-toggleable__label {cursor: pointer;display: block;width: 100%;margin-bottom: 0;padding: 0.3em;box-sizing: border-box;text-align: center;}#sk-container-id-1 label.sk-toggleable__label-arrow:before {content: \"▸\";float: left;margin-right: 0.25em;color: #696969;}#sk-container-id-1 label.sk-toggleable__label-arrow:hover:before {color: black;}#sk-container-id-1 div.sk-estimator:hover label.sk-toggleable__label-arrow:before {color: black;}#sk-container-id-1 div.sk-toggleable__content {max-height: 0;max-width: 0;overflow: hidden;text-align: left;background-color: #f0f8ff;}#sk-container-id-1 div.sk-toggleable__content pre {margin: 0.2em;color: black;border-radius: 0.25em;background-color: #f0f8ff;}#sk-container-id-1 input.sk-toggleable__control:checked~div.sk-toggleable__content {max-height: 200px;max-width: 100%;overflow: auto;}#sk-container-id-1 input.sk-toggleable__control:checked~label.sk-toggleable__label-arrow:before {content: \"▾\";}#sk-container-id-1 div.sk-estimator input.sk-toggleable__control:checked~label.sk-toggleable__label {background-color: #d4ebff;}#sk-container-id-1 div.sk-label input.sk-toggleable__control:checked~label.sk-toggleable__label {background-color: #d4ebff;}#sk-container-id-1 input.sk-hidden--visually {border: 0;clip: rect(1px 1px 1px 1px);clip: rect(1px, 1px, 1px, 1px);height: 1px;margin: -1px;overflow: hidden;padding: 0;position: absolute;width: 1px;}#sk-container-id-1 div.sk-estimator {font-family: monospace;background-color: #f0f8ff;border: 1px dotted black;border-radius: 0.25em;box-sizing: border-box;margin-bottom: 0.5em;}#sk-container-id-1 div.sk-estimator:hover {background-color: #d4ebff;}#sk-container-id-1 div.sk-parallel-item::after {content: \"\";width: 100%;border-bottom: 1px solid gray;flex-grow: 1;}#sk-container-id-1 div.sk-label:hover label.sk-toggleable__label {background-color: #d4ebff;}#sk-container-id-1 div.sk-serial::before {content: \"\";position: absolute;border-left: 1px solid gray;box-sizing: border-box;top: 0;bottom: 0;left: 50%;z-index: 0;}#sk-container-id-1 div.sk-serial {display: flex;flex-direction: column;align-items: center;background-color: white;padding-right: 0.2em;padding-left: 0.2em;position: relative;}#sk-container-id-1 div.sk-item {position: relative;z-index: 1;}#sk-container-id-1 div.sk-parallel {display: flex;align-items: stretch;justify-content: center;background-color: white;position: relative;}#sk-container-id-1 div.sk-item::before, #sk-container-id-1 div.sk-parallel-item::before {content: \"\";position: absolute;border-left: 1px solid gray;box-sizing: border-box;top: 0;bottom: 0;left: 50%;z-index: -1;}#sk-container-id-1 div.sk-parallel-item {display: flex;flex-direction: column;z-index: 1;position: relative;background-color: white;}#sk-container-id-1 div.sk-parallel-item:first-child::after {align-self: flex-end;width: 50%;}#sk-container-id-1 div.sk-parallel-item:last-child::after {align-self: flex-start;width: 50%;}#sk-container-id-1 div.sk-parallel-item:only-child::after {width: 0;}#sk-container-id-1 div.sk-dashed-wrapped {border: 1px dashed gray;margin: 0 0.4em 0.5em 0.4em;box-sizing: border-box;padding-bottom: 0.4em;background-color: white;}#sk-container-id-1 div.sk-label label {font-family: monospace;font-weight: bold;display: inline-block;line-height: 1.2em;}#sk-container-id-1 div.sk-label-container {text-align: center;}#sk-container-id-1 div.sk-container {/* jupyter's `normalize.less` sets `[hidden] { display: none; }` but bootstrap.min.css set `[hidden] { display: none !important; }` so we also need the `!important` here to be able to override the default hidden behavior on the sphinx rendered scikit-learn.org. See: https://github.com/scikit-learn/scikit-learn/issues/21755 */display: inline-block !important;position: relative;}#sk-container-id-1 div.sk-text-repr-fallback {display: none;}</style><div id=\"sk-container-id-1\" class=\"sk-top-container\"><div class=\"sk-text-repr-fallback\"><pre>LinearRegression()</pre><b>In a Jupyter environment, please rerun this cell to show the HTML representation or trust the notebook. <br />On GitHub, the HTML representation is unable to render, please try loading this page with nbviewer.org.</b></div><div class=\"sk-container\" hidden><div class=\"sk-item\"><div class=\"sk-estimator sk-toggleable\"><input class=\"sk-toggleable__control sk-hidden--visually\" id=\"sk-estimator-id-1\" type=\"checkbox\" checked><label for=\"sk-estimator-id-1\" class=\"sk-toggleable__label sk-toggleable__label-arrow\">LinearRegression</label><div class=\"sk-toggleable__content\"><pre>LinearRegression()</pre></div></div></div></div></div>"
      ],
      "text/plain": [
       "LinearRegression()"
      ]
     },
     "execution_count": 14,
     "metadata": {},
     "output_type": "execute_result"
    }
   ],
   "source": [
    "#entrenamiento del modelo\n",
    "lr_multiple.fit(X_train, y_train)"
   ]
  },
  {
   "cell_type": "code",
   "execution_count": 15,
   "id": "38c5e426",
   "metadata": {
    "execution": {
     "iopub.execute_input": "2023-06-19T19:31:33.012899Z",
     "iopub.status.busy": "2023-06-19T19:31:33.012530Z",
     "iopub.status.idle": "2023-06-19T19:31:33.018075Z",
     "shell.execute_reply": "2023-06-19T19:31:33.017399Z"
    },
    "papermill": {
     "duration": 0.021561,
     "end_time": "2023-06-19T19:31:33.021529",
     "exception": false,
     "start_time": "2023-06-19T19:31:32.999968",
     "status": "completed"
    },
    "tags": []
   },
   "outputs": [
    {
     "name": "stdout",
     "output_type": "stream",
     "text": [
      "DATOS DEL MODELO\n",
      "\n",
      "Valor de las pendientes o coeficientes \"a\":\n",
      "[ 2.79748602e+02  2.66005827e+03  2.54487384e-01  1.60864576e-02\n",
      "  1.96585414e+01 -2.63355350e+03  5.44841330e+02 -2.16434239e+03\n",
      " -3.48558915e+03  3.00022507e+03 -2.64742593e+03 -1.17304193e+03\n",
      " -1.93804792e+03 -3.43793491e+03 -1.92050013e+03 -1.30275881e+03\n",
      " -4.95698010e+01 -1.47819016e+03 -1.18201790e+03 -1.44562920e+03\n",
      " -2.85367550e+03 -3.45879751e+03  6.12185926e+03 -3.18639546e+03\n",
      "  1.07106357e+04  1.49569597e+04 -3.58550289e+03 -2.81500606e+03\n",
      " -7.90779749e+02 -3.03157311e+03 -3.85476522e+03 -2.93863112e+03\n",
      " -3.54127771e+03 -2.19475180e+03 -2.81545478e+03 -2.70211237e+03\n",
      " -2.46879174e+02  3.72941521e+03  6.41999446e+03 -2.65105691e+03\n",
      " -3.03979236e+03 -3.19445054e+03 -9.85835079e+02 -1.66176416e+03\n",
      " -3.04230506e+03 -2.71222320e+03 -1.96377145e+03  3.68018995e+03\n",
      "  1.07483354e+03  2.25144725e+04 -2.46640296e+03 -6.43928205e+02\n",
      " -1.37345449e+03 -3.87714188e+03  1.51713659e+04  2.56153800e+03]\n"
     ]
    }
   ],
   "source": [
    "print('DATOS DEL MODELO')\n",
    "print()\n",
    "\n",
    "print('Valor de las pendientes o coeficientes \"a\":')\n",
    "print(lr_multiple.coef_)"
   ]
  },
  {
   "cell_type": "code",
   "execution_count": 16,
   "id": "35f017a7",
   "metadata": {
    "execution": {
     "iopub.execute_input": "2023-06-19T19:31:33.049438Z",
     "iopub.status.busy": "2023-06-19T19:31:33.049024Z",
     "iopub.status.idle": "2023-06-19T19:31:33.053595Z",
     "shell.execute_reply": "2023-06-19T19:31:33.052872Z"
    },
    "papermill": {
     "duration": 0.021562,
     "end_time": "2023-06-19T19:31:33.056426",
     "exception": false,
     "start_time": "2023-06-19T19:31:33.034864",
     "status": "completed"
    },
    "tags": []
   },
   "outputs": [
    {
     "name": "stdout",
     "output_type": "stream",
     "text": [
      "Valor de la intersección o coeficiente \"b\":\n",
      "513.1239644717098\n"
     ]
    }
   ],
   "source": [
    "print('Valor de la intersección o coeficiente \"b\":')\n",
    "print(lr_multiple.intercept_)"
   ]
  },
  {
   "cell_type": "code",
   "execution_count": 17,
   "id": "d486aaa5",
   "metadata": {
    "execution": {
     "iopub.execute_input": "2023-06-19T19:31:33.085132Z",
     "iopub.status.busy": "2023-06-19T19:31:33.084755Z",
     "iopub.status.idle": "2023-06-19T19:31:33.095983Z",
     "shell.execute_reply": "2023-06-19T19:31:33.095287Z"
    },
    "papermill": {
     "duration": 0.028073,
     "end_time": "2023-06-19T19:31:33.098455",
     "exception": false,
     "start_time": "2023-06-19T19:31:33.070382",
     "status": "completed"
    },
    "tags": []
   },
   "outputs": [
    {
     "name": "stdout",
     "output_type": "stream",
     "text": [
      "Precisión del modelo:\n",
      "0.6481302861164053\n"
     ]
    }
   ],
   "source": [
    "print('Precisión del modelo:')\n",
    "print(lr_multiple.score(X_train, y_train))"
   ]
  },
  {
   "cell_type": "markdown",
   "id": "4e8446c6",
   "metadata": {
    "papermill": {
     "duration": 0.011135,
     "end_time": "2023-06-19T19:31:33.121768",
     "exception": false,
     "start_time": "2023-06-19T19:31:33.110633",
     "status": "completed"
    },
    "tags": []
   },
   "source": [
    "La precision baja se podría deber en su mayoria por los precios en las comunas con casas mas caras. Por ejemplo una casa en La Reina costará mucho pero esto no es necesario."
   ]
  },
  {
   "cell_type": "markdown",
   "id": "9c2b53f4",
   "metadata": {
    "papermill": {
     "duration": 0.013133,
     "end_time": "2023-06-19T19:31:33.145961",
     "exception": false,
     "start_time": "2023-06-19T19:31:33.132828",
     "status": "completed"
    },
    "tags": []
   },
   "source": [
    "# Predicción"
   ]
  },
  {
   "cell_type": "code",
   "execution_count": 18,
   "id": "c99fc99d",
   "metadata": {
    "execution": {
     "iopub.execute_input": "2023-06-19T19:31:33.170410Z",
     "iopub.status.busy": "2023-06-19T19:31:33.170042Z",
     "iopub.status.idle": "2023-06-19T19:31:33.185258Z",
     "shell.execute_reply": "2023-06-19T19:31:33.184562Z"
    },
    "papermill": {
     "duration": 0.029306,
     "end_time": "2023-06-19T19:31:33.187005",
     "exception": false,
     "start_time": "2023-06-19T19:31:33.157699",
     "status": "completed"
    },
    "tags": []
   },
   "outputs": [
    {
     "data": {
      "text/html": [
       "<div>\n",
       "<style scoped>\n",
       "    .dataframe tbody tr th:only-of-type {\n",
       "        vertical-align: middle;\n",
       "    }\n",
       "\n",
       "    .dataframe tbody tr th {\n",
       "        vertical-align: top;\n",
       "    }\n",
       "\n",
       "    .dataframe thead th {\n",
       "        text-align: right;\n",
       "    }\n",
       "</style>\n",
       "<table border=\"1\" class=\"dataframe\">\n",
       "  <thead>\n",
       "    <tr style=\"text-align: right;\">\n",
       "      <th></th>\n",
       "      <th>0</th>\n",
       "    </tr>\n",
       "  </thead>\n",
       "  <tbody>\n",
       "    <tr>\n",
       "      <th>0</th>\n",
       "      <td>12294.236237</td>\n",
       "    </tr>\n",
       "    <tr>\n",
       "      <th>1</th>\n",
       "      <td>967.718321</td>\n",
       "    </tr>\n",
       "    <tr>\n",
       "      <th>2</th>\n",
       "      <td>2150.168758</td>\n",
       "    </tr>\n",
       "    <tr>\n",
       "      <th>3</th>\n",
       "      <td>7059.698165</td>\n",
       "    </tr>\n",
       "    <tr>\n",
       "      <th>4</th>\n",
       "      <td>6768.146625</td>\n",
       "    </tr>\n",
       "    <tr>\n",
       "      <th>...</th>\n",
       "      <td>...</td>\n",
       "    </tr>\n",
       "    <tr>\n",
       "      <th>7774</th>\n",
       "      <td>26202.734749</td>\n",
       "    </tr>\n",
       "    <tr>\n",
       "      <th>7775</th>\n",
       "      <td>6759.788002</td>\n",
       "    </tr>\n",
       "    <tr>\n",
       "      <th>7776</th>\n",
       "      <td>31596.468855</td>\n",
       "    </tr>\n",
       "    <tr>\n",
       "      <th>7777</th>\n",
       "      <td>3624.591382</td>\n",
       "    </tr>\n",
       "    <tr>\n",
       "      <th>7778</th>\n",
       "      <td>8640.327002</td>\n",
       "    </tr>\n",
       "  </tbody>\n",
       "</table>\n",
       "<p>7779 rows × 1 columns</p>\n",
       "</div>"
      ],
      "text/plain": [
       "                 0\n",
       "0     12294.236237\n",
       "1       967.718321\n",
       "2      2150.168758\n",
       "3      7059.698165\n",
       "4      6768.146625\n",
       "...            ...\n",
       "7774  26202.734749\n",
       "7775   6759.788002\n",
       "7776  31596.468855\n",
       "7777   3624.591382\n",
       "7778   8640.327002\n",
       "\n",
       "[7779 rows x 1 columns]"
      ]
     },
     "execution_count": 18,
     "metadata": {},
     "output_type": "execute_result"
    }
   ],
   "source": [
    "#realizacion de una prediccionX\n",
    "Y_pred_multiple = lr_multiple.predict(X)\n",
    "Y_pred_multiple= pd.DataFrame(Y_pred_multiple)\n",
    "Y_pred_multiple"
   ]
  },
  {
   "cell_type": "code",
   "execution_count": 19,
   "id": "5a55992e",
   "metadata": {
    "execution": {
     "iopub.execute_input": "2023-06-19T19:31:33.210656Z",
     "iopub.status.busy": "2023-06-19T19:31:33.210274Z",
     "iopub.status.idle": "2023-06-19T19:31:33.232863Z",
     "shell.execute_reply": "2023-06-19T19:31:33.232033Z"
    },
    "papermill": {
     "duration": 0.03672,
     "end_time": "2023-06-19T19:31:33.234702",
     "exception": false,
     "start_time": "2023-06-19T19:31:33.197982",
     "status": "completed"
    },
    "tags": []
   },
   "outputs": [
    {
     "data": {
      "text/html": [
       "<div>\n",
       "<style scoped>\n",
       "    .dataframe tbody tr th:only-of-type {\n",
       "        vertical-align: middle;\n",
       "    }\n",
       "\n",
       "    .dataframe tbody tr th {\n",
       "        vertical-align: top;\n",
       "    }\n",
       "\n",
       "    .dataframe thead th {\n",
       "        text-align: right;\n",
       "    }\n",
       "</style>\n",
       "<table border=\"1\" class=\"dataframe\">\n",
       "  <thead>\n",
       "    <tr style=\"text-align: right;\">\n",
       "      <th></th>\n",
       "      <th>Price_CLP</th>\n",
       "      <th>Price_UF</th>\n",
       "      <th>Price_USD</th>\n",
       "      <th>Comuna</th>\n",
       "      <th>Ubicacion</th>\n",
       "      <th>Dorms</th>\n",
       "      <th>Baths</th>\n",
       "      <th>Built Area</th>\n",
       "      <th>Total Area</th>\n",
       "      <th>Parking</th>\n",
       "      <th>id</th>\n",
       "      <th>Realtor</th>\n",
       "      <th>0</th>\n",
       "    </tr>\n",
       "  </thead>\n",
       "  <tbody>\n",
       "    <tr>\n",
       "      <th>0</th>\n",
       "      <td>409285000</td>\n",
       "      <td>11500</td>\n",
       "      <td>509695</td>\n",
       "      <td>QuintaNormal</td>\n",
       "      <td>Hoevel4548y4558</td>\n",
       "      <td>7</td>\n",
       "      <td>4.0</td>\n",
       "      <td>384.0</td>\n",
       "      <td>732.0</td>\n",
       "      <td>3.0</td>\n",
       "      <td>11700213</td>\n",
       "      <td>NaN</td>\n",
       "      <td>12294.236237</td>\n",
       "    </tr>\n",
       "    <tr>\n",
       "      <th>1</th>\n",
       "      <td>105000000</td>\n",
       "      <td>2950</td>\n",
       "      <td>130760</td>\n",
       "      <td>PedroAguirreCerda</td>\n",
       "      <td>Rucalhue</td>\n",
       "      <td>2</td>\n",
       "      <td>1.0</td>\n",
       "      <td>112.0</td>\n",
       "      <td>145.0</td>\n",
       "      <td>1.0</td>\n",
       "      <td>10894299</td>\n",
       "      <td>Legales y Propiedades SpA</td>\n",
       "      <td>967.718321</td>\n",
       "    </tr>\n",
       "    <tr>\n",
       "      <th>2</th>\n",
       "      <td>128124000</td>\n",
       "      <td>3600</td>\n",
       "      <td>159557</td>\n",
       "      <td>EstaciónCentral</td>\n",
       "      <td>AvenidaLasParcelas</td>\n",
       "      <td>3</td>\n",
       "      <td>1.0</td>\n",
       "      <td>59.0</td>\n",
       "      <td>243.0</td>\n",
       "      <td>2.0</td>\n",
       "      <td>10257635</td>\n",
       "      <td>Propiedadesrs</td>\n",
       "      <td>2150.168758</td>\n",
       "    </tr>\n",
       "    <tr>\n",
       "      <th>3</th>\n",
       "      <td>75000000</td>\n",
       "      <td>2107</td>\n",
       "      <td>93400</td>\n",
       "      <td>Colina</td>\n",
       "      <td>PasajeGonzaloRojas</td>\n",
       "      <td>3</td>\n",
       "      <td>1.0</td>\n",
       "      <td>103.0</td>\n",
       "      <td>73.0</td>\n",
       "      <td>1.0</td>\n",
       "      <td>9232092</td>\n",
       "      <td>Patricio Gajardo propiedades</td>\n",
       "      <td>7059.698165</td>\n",
       "    </tr>\n",
       "    <tr>\n",
       "      <th>4</th>\n",
       "      <td>53000000</td>\n",
       "      <td>1489</td>\n",
       "      <td>66002</td>\n",
       "      <td>Colina</td>\n",
       "      <td>HernánDíazArrieta2820</td>\n",
       "      <td>2</td>\n",
       "      <td>1.0</td>\n",
       "      <td>57.0</td>\n",
       "      <td>67.0</td>\n",
       "      <td>1.0</td>\n",
       "      <td>7085397</td>\n",
       "      <td>Patricio Gajardo propiedades</td>\n",
       "      <td>6768.146625</td>\n",
       "    </tr>\n",
       "    <tr>\n",
       "      <th>...</th>\n",
       "      <td>...</td>\n",
       "      <td>...</td>\n",
       "      <td>...</td>\n",
       "      <td>...</td>\n",
       "      <td>...</td>\n",
       "      <td>...</td>\n",
       "      <td>...</td>\n",
       "      <td>...</td>\n",
       "      <td>...</td>\n",
       "      <td>...</td>\n",
       "      <td>...</td>\n",
       "      <td>...</td>\n",
       "      <td>...</td>\n",
       "    </tr>\n",
       "    <tr>\n",
       "      <th>7774</th>\n",
       "      <td>2491300000</td>\n",
       "      <td>70000</td>\n",
       "      <td>3102491</td>\n",
       "      <td>LasCondes</td>\n",
       "      <td>CalleSanJosédeLaSierra</td>\n",
       "      <td>5</td>\n",
       "      <td>5.0</td>\n",
       "      <td>600.0</td>\n",
       "      <td>1800.0</td>\n",
       "      <td>5.0</td>\n",
       "      <td>4708915</td>\n",
       "      <td>Propiedades Viña Limitada ®</td>\n",
       "      <td>26202.734749</td>\n",
       "    </tr>\n",
       "    <tr>\n",
       "      <th>7775</th>\n",
       "      <td>242012000</td>\n",
       "      <td>6800</td>\n",
       "      <td>301385</td>\n",
       "      <td>Peñalolén</td>\n",
       "      <td>PasajeMarNegro</td>\n",
       "      <td>4</td>\n",
       "      <td>2.0</td>\n",
       "      <td>124.0</td>\n",
       "      <td>200.0</td>\n",
       "      <td>1.0</td>\n",
       "      <td>6641660</td>\n",
       "      <td>NaN</td>\n",
       "      <td>6759.788002</td>\n",
       "    </tr>\n",
       "    <tr>\n",
       "      <th>7776</th>\n",
       "      <td>3736950000</td>\n",
       "      <td>105000</td>\n",
       "      <td>4653736</td>\n",
       "      <td>LasCondes</td>\n",
       "      <td>CaminoLasFlores/CaminoPiedraRoja</td>\n",
       "      <td>5</td>\n",
       "      <td>7.0</td>\n",
       "      <td>460.0</td>\n",
       "      <td>4925.0</td>\n",
       "      <td>8.0</td>\n",
       "      <td>6032811</td>\n",
       "      <td>Tsi Property</td>\n",
       "      <td>31596.468855</td>\n",
       "    </tr>\n",
       "    <tr>\n",
       "      <th>7777</th>\n",
       "      <td>569440000</td>\n",
       "      <td>16000</td>\n",
       "      <td>709141</td>\n",
       "      <td>LaPintana</td>\n",
       "      <td>LosCipreses/LosDuraznos</td>\n",
       "      <td>4</td>\n",
       "      <td>2.0</td>\n",
       "      <td>311.0</td>\n",
       "      <td>2011.0</td>\n",
       "      <td>1.0</td>\n",
       "      <td>5314376</td>\n",
       "      <td>Tsi Property</td>\n",
       "      <td>3624.591382</td>\n",
       "    </tr>\n",
       "    <tr>\n",
       "      <th>7778</th>\n",
       "      <td>355828820</td>\n",
       "      <td>9998</td>\n",
       "      <td>443124</td>\n",
       "      <td>Talagante</td>\n",
       "      <td>LucasPacheco/Balmaceda</td>\n",
       "      <td>5</td>\n",
       "      <td>3.0</td>\n",
       "      <td>225.0</td>\n",
       "      <td>366.0</td>\n",
       "      <td>NaN</td>\n",
       "      <td>6186867</td>\n",
       "      <td>Tsi Property</td>\n",
       "      <td>8640.327002</td>\n",
       "    </tr>\n",
       "  </tbody>\n",
       "</table>\n",
       "<p>7779 rows × 13 columns</p>\n",
       "</div>"
      ],
      "text/plain": [
       "       Price_CLP  Price_UF  Price_USD             Comuna  \\\n",
       "0      409285000     11500     509695       QuintaNormal   \n",
       "1      105000000      2950     130760  PedroAguirreCerda   \n",
       "2      128124000      3600     159557    EstaciónCentral   \n",
       "3       75000000      2107      93400             Colina   \n",
       "4       53000000      1489      66002             Colina   \n",
       "...          ...       ...        ...                ...   \n",
       "7774  2491300000     70000    3102491          LasCondes   \n",
       "7775   242012000      6800     301385          Peñalolén   \n",
       "7776  3736950000    105000    4653736          LasCondes   \n",
       "7777   569440000     16000     709141          LaPintana   \n",
       "7778   355828820      9998     443124          Talagante   \n",
       "\n",
       "                             Ubicacion  Dorms  Baths  Built Area  Total Area  \\\n",
       "0                      Hoevel4548y4558      7    4.0       384.0       732.0   \n",
       "1                             Rucalhue      2    1.0       112.0       145.0   \n",
       "2                   AvenidaLasParcelas      3    1.0        59.0       243.0   \n",
       "3                   PasajeGonzaloRojas      3    1.0       103.0        73.0   \n",
       "4                HernánDíazArrieta2820      2    1.0        57.0        67.0   \n",
       "...                                ...    ...    ...         ...         ...   \n",
       "7774            CalleSanJosédeLaSierra      5    5.0       600.0      1800.0   \n",
       "7775                    PasajeMarNegro      4    2.0       124.0       200.0   \n",
       "7776  CaminoLasFlores/CaminoPiedraRoja      5    7.0       460.0      4925.0   \n",
       "7777           LosCipreses/LosDuraznos      4    2.0       311.0      2011.0   \n",
       "7778            LucasPacheco/Balmaceda      5    3.0       225.0       366.0   \n",
       "\n",
       "      Parking        id                       Realtor             0  \n",
       "0         3.0  11700213                           NaN  12294.236237  \n",
       "1         1.0  10894299     Legales y Propiedades SpA    967.718321  \n",
       "2         2.0  10257635                 Propiedadesrs   2150.168758  \n",
       "3         1.0   9232092  Patricio Gajardo propiedades   7059.698165  \n",
       "4         1.0   7085397  Patricio Gajardo propiedades   6768.146625  \n",
       "...       ...       ...                           ...           ...  \n",
       "7774      5.0   4708915   Propiedades Viña Limitada ®  26202.734749  \n",
       "7775      1.0   6641660                           NaN   6759.788002  \n",
       "7776      8.0   6032811                  Tsi Property  31596.468855  \n",
       "7777      1.0   5314376                  Tsi Property   3624.591382  \n",
       "7778      NaN   6186867                  Tsi Property   8640.327002  \n",
       "\n",
       "[7779 rows x 13 columns]"
      ]
     },
     "metadata": {},
     "output_type": "display_data"
    }
   ],
   "source": [
    "# Concatenando a df original\n",
    "df2 = pd.concat([df2, Y_pred_multiple], axis=1)\n",
    "display(df2)"
   ]
  },
  {
   "cell_type": "markdown",
   "id": "46c194bc",
   "metadata": {
    "execution": {
     "iopub.execute_input": "2023-06-17T15:29:54.184080Z",
     "iopub.status.busy": "2023-06-17T15:29:54.183386Z",
     "iopub.status.idle": "2023-06-17T15:29:54.192239Z",
     "shell.execute_reply": "2023-06-17T15:29:54.190778Z",
     "shell.execute_reply.started": "2023-06-17T15:29:54.184040Z"
    },
    "papermill": {
     "duration": 0.012526,
     "end_time": "2023-06-19T19:31:33.260391",
     "exception": false,
     "start_time": "2023-06-19T19:31:33.247865",
     "status": "completed"
    },
    "tags": []
   },
   "source": [
    "# Por ejemplos, en la fila 2. con un 64.81% de certeza una casa en estacion central, con 3 dormitorios, 2 baños, area construida de 59 m^3, area total de 243 m^3 y 2 estacionamientos, costaría 2150 UF"
   ]
  }
 ],
 "metadata": {
  "kernelspec": {
   "display_name": "Python 3",
   "language": "python",
   "name": "python3"
  },
  "language_info": {
   "codemirror_mode": {
    "name": "ipython",
    "version": 3
   },
   "file_extension": ".py",
   "mimetype": "text/x-python",
   "name": "python",
   "nbconvert_exporter": "python",
   "pygments_lexer": "ipython3",
   "version": "3.10.10"
  },
  "papermill": {
   "default_parameters": {},
   "duration": 16.992255,
   "end_time": "2023-06-19T19:31:34.494534",
   "environment_variables": {},
   "exception": null,
   "input_path": "__notebook__.ipynb",
   "output_path": "__notebook__.ipynb",
   "parameters": {},
   "start_time": "2023-06-19T19:31:17.502279",
   "version": "2.4.0"
  }
 },
 "nbformat": 4,
 "nbformat_minor": 5
}
